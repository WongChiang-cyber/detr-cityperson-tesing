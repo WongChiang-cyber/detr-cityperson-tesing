{
 "cells": [
  {
   "cell_type": "code",
   "execution_count": 9,
   "id": "initial_id",
   "metadata": {
    "collapsed": true,
    "ExecuteTime": {
     "end_time": "2023-11-26T15:54:07.551735083Z",
     "start_time": "2023-11-26T15:54:07.508542736Z"
    }
   },
   "outputs": [],
   "source": [
    "city_anno_dir = '/home/wong/Documents/DataSet/CityPersonFull/annotations/'\n",
    "city_img_dir = '/home/wong/Documents/DataSet/CityPersonFull/'\n",
    "train_folder_name = 'train/'\n",
    "val_folder_name = 'val/'\n",
    "# train_file = 'custom_train.json'\n",
    "train_anno_file = 'custom_train_full_binary_debug.json'\n",
    "# val_file = 'custom_val.json'\n",
    "val_anno_file = 'custom_val_full_binary_debug.json'\n",
    "\n",
    "pretrained_folder = \"./pretrained/DETR-RESNET-50\"\n",
    "\n",
    "THRESHOLD_EVAL = 0.5\n",
    "\n",
    "LR=1e-4\n",
    "LR_BACKBONE=1e-5\n",
    "WEIGHT_DECAY=1e-4"
   ]
  },
  {
   "cell_type": "code",
   "execution_count": 3,
   "outputs": [],
   "source": [
    "import torchvision\n",
    "import os\n",
    "import torch\n",
    "\n",
    "\n",
    "class CocoDetection(torchvision.datasets.CocoDetection):\n",
    "    def __init__(self, img_folder, processor, train=True):\n",
    "        ann_file = os.path.join(city_anno_dir, train_anno_file) if train else os.path.join(city_anno_dir, val_anno_file)\n",
    "        super(CocoDetection, self).__init__(img_folder, ann_file)\n",
    "        self.processor = processor\n",
    "\n",
    "    def __getitem__(self, idx):\n",
    "        # read in PIL image and target in COCO format\n",
    "        # feel free to add data augmentation here before passing them to the next step\n",
    "        img, target = super(CocoDetection, self).__getitem__(idx)\n",
    "\n",
    "        # preprocess image and target (converting target to DETR format, resizing + normalization of both image and target)\n",
    "        image_id = self.ids[idx]\n",
    "        target = {'image_id': image_id, 'annotations': target}\n",
    "        encoding = self.processor(images=img, annotations=target, return_tensors=\"pt\")\n",
    "        pixel_values = encoding[\"pixel_values\"].squeeze()  # remove batch dimension\n",
    "        target = encoding[\"labels\"][0]  # remove batch dimension\n",
    "\n",
    "        return pixel_values, target"
   ],
   "metadata": {
    "collapsed": false,
    "ExecuteTime": {
     "end_time": "2023-11-26T15:52:08.181894856Z",
     "start_time": "2023-11-26T15:52:08.179247854Z"
    }
   },
   "id": "538d95be8cf83924"
  },
  {
   "cell_type": "code",
   "execution_count": 4,
   "outputs": [
    {
     "name": "stderr",
     "output_type": "stream",
     "text": [
      "The `max_size` parameter is deprecated and will be removed in v4.26. Please specify in `size['longest_edge'] instead`.\n"
     ]
    }
   ],
   "source": [
    "from transformers import DetrImageProcessor\n",
    "\n",
    "processor = DetrImageProcessor.from_pretrained(pretrained_folder)"
   ],
   "metadata": {
    "collapsed": false,
    "ExecuteTime": {
     "end_time": "2023-11-26T15:52:08.533286048Z",
     "start_time": "2023-11-26T15:52:08.179355180Z"
    }
   },
   "id": "a455225d07b861eb"
  },
  {
   "cell_type": "code",
   "execution_count": 5,
   "outputs": [
    {
     "name": "stdout",
     "output_type": "stream",
     "text": [
      "loading annotations into memory...\n",
      "Done (t=0.00s)\n",
      "creating index...\n",
      "index created!\n",
      "loading annotations into memory...\n",
      "Done (t=0.00s)\n",
      "creating index...\n",
      "index created!\n"
     ]
    }
   ],
   "source": [
    "from torch.utils.data import DataLoader\n",
    "\n",
    "\n",
    "def collate_fn(batch):\n",
    "    pixel_values = [item[0] for item in batch]\n",
    "    encoding = processor.pad(pixel_values, return_tensors=\"pt\")\n",
    "    labels = [item[1] for item in batch]\n",
    "    batch = {}\n",
    "    batch['pixel_values'] = encoding['pixel_values']\n",
    "    batch['pixel_mask'] = encoding['pixel_mask']\n",
    "    batch['labels'] = labels\n",
    "    return batch\n",
    "\n",
    "\n",
    "train_dataset = CocoDetection(img_folder=city_img_dir + train_folder_name, processor=processor)\n",
    "val_dataset = CocoDetection(img_folder=city_img_dir + val_folder_name, processor=processor, train=False)\n",
    "train_dataloader = DataLoader(train_dataset, collate_fn=collate_fn, batch_size=4, shuffle=True)\n",
    "val_dataloader = DataLoader(val_dataset, collate_fn=collate_fn, batch_size=2)\n",
    "\n",
    "cats = train_dataset.coco.cats\n",
    "id2label = {k: v['name'] for k,v in cats.items()}"
   ],
   "metadata": {
    "collapsed": false,
    "ExecuteTime": {
     "end_time": "2023-11-26T15:52:08.543970871Z",
     "start_time": "2023-11-26T15:52:08.534388573Z"
    }
   },
   "id": "a0c70feb4d087de5"
  },
  {
   "cell_type": "code",
   "execution_count": 6,
   "outputs": [],
   "source": [
    "import pytorch_lightning as pl\n",
    "from transformers import DetrConfig, DetrForObjectDetection\n",
    "import torch\n",
    "\n",
    "\n",
    "class Detr(pl.LightningModule):\n",
    "    def __init__(self, lr, lr_backbone, weight_decay):\n",
    "        super().__init__()\n",
    "        # replace COCO classification head with custom head\n",
    "        # we specify the \"no_timm\" variant here to not rely on the timm library\n",
    "        # for the convolutional backbone\n",
    "        self.model = DetrForObjectDetection.from_pretrained(\"facebook/detr-resnet-50\",\n",
    "                                                            revision=\"no_timm\",\n",
    "                                                            num_labels=len(id2label),\n",
    "                                                            ignore_mismatched_sizes=True)\n",
    "        # see https://github.com/PyTorchLightning/pytorch-lightning/pull/1896\n",
    "        self.lr = lr\n",
    "        self.lr_backbone = lr_backbone\n",
    "        self.weight_decay = weight_decay\n",
    "        self.save_hyperparameters()\n",
    "\n",
    "    def forward(self, pixel_values, pixel_mask):\n",
    "        outputs = self.model(pixel_values=pixel_values, pixel_mask=pixel_mask)\n",
    "\n",
    "        return outputs\n",
    "\n",
    "    def common_step(self, batch, batch_idx):\n",
    "        pixel_values = batch[\"pixel_values\"]\n",
    "        pixel_mask = batch[\"pixel_mask\"]\n",
    "        labels = [{k: v.to(self.device) for k, v in t.items()} for t in batch[\"labels\"]]\n",
    "\n",
    "        outputs = self.model(pixel_values=pixel_values, pixel_mask=pixel_mask, labels=labels)\n",
    "\n",
    "        loss = outputs.loss\n",
    "        loss_dict = outputs.loss_dict\n",
    "\n",
    "        return loss, loss_dict\n",
    "\n",
    "    def training_step(self, batch, batch_idx):\n",
    "        loss, loss_dict = self.common_step(batch, batch_idx)\n",
    "        # logs metrics for each training_step,\n",
    "        # and the average across the epoch\n",
    "        self.log(\"training_loss\", loss)\n",
    "        for k, v in loss_dict.items():\n",
    "            self.log(\"train_\" + k, v.item())\n",
    "\n",
    "        return loss\n",
    "\n",
    "    def validation_step(self, batch, batch_idx):\n",
    "        loss, loss_dict = self.common_step(batch, batch_idx)\n",
    "        self.log(\"validation_loss\", loss)\n",
    "        for k, v in loss_dict.items():\n",
    "            self.log(\"validation_\" + k, v.item())\n",
    "\n",
    "        return loss\n",
    "\n",
    "    def configure_optimizers(self):\n",
    "        param_dicts = [\n",
    "            {\"params\": [p for n, p in self.named_parameters() if \"backbone\" not in n and p.requires_grad]},\n",
    "            {\n",
    "                \"params\": [p for n, p in self.named_parameters() if \"backbone\" in n and p.requires_grad],\n",
    "                \"lr\": self.lr_backbone,\n",
    "            },\n",
    "        ]\n",
    "        optimizer = torch.optim.AdamW(param_dicts, lr=self.lr,\n",
    "                                      weight_decay=self.weight_decay)\n",
    "\n",
    "        return optimizer\n",
    "\n",
    "    def train_dataloader(self):\n",
    "        return train_dataloader\n",
    "\n",
    "    def val_dataloader(self):\n",
    "        return val_dataloader"
   ],
   "metadata": {
    "collapsed": false,
    "ExecuteTime": {
     "end_time": "2023-11-26T15:52:09.229107644Z",
     "start_time": "2023-11-26T15:52:08.539455836Z"
    }
   },
   "id": "c0280f72d527b97a"
  },
  {
   "cell_type": "code",
   "execution_count": 7,
   "outputs": [
    {
     "name": "stdout",
     "output_type": "stream",
     "text": [
      "loading annotations into memory...\n",
      "Done (t=0.00s)\n",
      "creating index...\n",
      "index created!\n"
     ]
    }
   ],
   "source": [
    "val_dataset = CocoDetection(img_folder=city_img_dir + val_folder_name, processor=processor, train=False)"
   ],
   "metadata": {
    "collapsed": false,
    "ExecuteTime": {
     "end_time": "2023-11-26T15:52:09.229395667Z",
     "start_time": "2023-11-26T15:52:09.224231117Z"
    }
   },
   "id": "41b498106a368c78"
  },
  {
   "cell_type": "code",
   "execution_count": 12,
   "outputs": [
    {
     "name": "stderr",
     "output_type": "stream",
     "text": [
      "Some weights of DetrForObjectDetection were not initialized from the model checkpoint at facebook/detr-resnet-50 and are newly initialized because the shapes did not match:\n",
      "- class_labels_classifier.weight: found shape torch.Size([92, 256]) in the checkpoint and torch.Size([2, 256]) in the model instantiated\n",
      "- class_labels_classifier.bias: found shape torch.Size([92]) in the checkpoint and torch.Size([2]) in the model instantiated\n",
      "You should probably TRAIN this model on a down-stream task to be able to use it for predictions and inference.\n"
     ]
    },
    {
     "data": {
      "text/plain": "Detr(\n  (model): DetrForObjectDetection(\n    (model): DetrModel(\n      (backbone): DetrConvModel(\n        (conv_encoder): DetrConvEncoder(\n          (model): ResNetBackbone(\n            (embedder): ResNetEmbeddings(\n              (embedder): ResNetConvLayer(\n                (convolution): Conv2d(3, 64, kernel_size=(7, 7), stride=(2, 2), padding=(3, 3), bias=False)\n                (normalization): DetrFrozenBatchNorm2d()\n                (activation): ReLU()\n              )\n              (pooler): MaxPool2d(kernel_size=3, stride=2, padding=1, dilation=1, ceil_mode=False)\n            )\n            (encoder): ResNetEncoder(\n              (stages): ModuleList(\n                (0): ResNetStage(\n                  (layers): Sequential(\n                    (0): ResNetBottleNeckLayer(\n                      (shortcut): ResNetShortCut(\n                        (convolution): Conv2d(64, 256, kernel_size=(1, 1), stride=(1, 1), bias=False)\n                        (normalization): DetrFrozenBatchNorm2d()\n                      )\n                      (layer): Sequential(\n                        (0): ResNetConvLayer(\n                          (convolution): Conv2d(64, 64, kernel_size=(1, 1), stride=(1, 1), bias=False)\n                          (normalization): DetrFrozenBatchNorm2d()\n                          (activation): ReLU()\n                        )\n                        (1): ResNetConvLayer(\n                          (convolution): Conv2d(64, 64, kernel_size=(3, 3), stride=(1, 1), padding=(1, 1), bias=False)\n                          (normalization): DetrFrozenBatchNorm2d()\n                          (activation): ReLU()\n                        )\n                        (2): ResNetConvLayer(\n                          (convolution): Conv2d(64, 256, kernel_size=(1, 1), stride=(1, 1), bias=False)\n                          (normalization): DetrFrozenBatchNorm2d()\n                          (activation): Identity()\n                        )\n                      )\n                      (activation): ReLU()\n                    )\n                    (1): ResNetBottleNeckLayer(\n                      (shortcut): Identity()\n                      (layer): Sequential(\n                        (0): ResNetConvLayer(\n                          (convolution): Conv2d(256, 64, kernel_size=(1, 1), stride=(1, 1), bias=False)\n                          (normalization): DetrFrozenBatchNorm2d()\n                          (activation): ReLU()\n                        )\n                        (1): ResNetConvLayer(\n                          (convolution): Conv2d(64, 64, kernel_size=(3, 3), stride=(1, 1), padding=(1, 1), bias=False)\n                          (normalization): DetrFrozenBatchNorm2d()\n                          (activation): ReLU()\n                        )\n                        (2): ResNetConvLayer(\n                          (convolution): Conv2d(64, 256, kernel_size=(1, 1), stride=(1, 1), bias=False)\n                          (normalization): DetrFrozenBatchNorm2d()\n                          (activation): Identity()\n                        )\n                      )\n                      (activation): ReLU()\n                    )\n                    (2): ResNetBottleNeckLayer(\n                      (shortcut): Identity()\n                      (layer): Sequential(\n                        (0): ResNetConvLayer(\n                          (convolution): Conv2d(256, 64, kernel_size=(1, 1), stride=(1, 1), bias=False)\n                          (normalization): DetrFrozenBatchNorm2d()\n                          (activation): ReLU()\n                        )\n                        (1): ResNetConvLayer(\n                          (convolution): Conv2d(64, 64, kernel_size=(3, 3), stride=(1, 1), padding=(1, 1), bias=False)\n                          (normalization): DetrFrozenBatchNorm2d()\n                          (activation): ReLU()\n                        )\n                        (2): ResNetConvLayer(\n                          (convolution): Conv2d(64, 256, kernel_size=(1, 1), stride=(1, 1), bias=False)\n                          (normalization): DetrFrozenBatchNorm2d()\n                          (activation): Identity()\n                        )\n                      )\n                      (activation): ReLU()\n                    )\n                  )\n                )\n                (1): ResNetStage(\n                  (layers): Sequential(\n                    (0): ResNetBottleNeckLayer(\n                      (shortcut): ResNetShortCut(\n                        (convolution): Conv2d(256, 512, kernel_size=(1, 1), stride=(2, 2), bias=False)\n                        (normalization): DetrFrozenBatchNorm2d()\n                      )\n                      (layer): Sequential(\n                        (0): ResNetConvLayer(\n                          (convolution): Conv2d(256, 128, kernel_size=(1, 1), stride=(1, 1), bias=False)\n                          (normalization): DetrFrozenBatchNorm2d()\n                          (activation): ReLU()\n                        )\n                        (1): ResNetConvLayer(\n                          (convolution): Conv2d(128, 128, kernel_size=(3, 3), stride=(2, 2), padding=(1, 1), bias=False)\n                          (normalization): DetrFrozenBatchNorm2d()\n                          (activation): ReLU()\n                        )\n                        (2): ResNetConvLayer(\n                          (convolution): Conv2d(128, 512, kernel_size=(1, 1), stride=(1, 1), bias=False)\n                          (normalization): DetrFrozenBatchNorm2d()\n                          (activation): Identity()\n                        )\n                      )\n                      (activation): ReLU()\n                    )\n                    (1): ResNetBottleNeckLayer(\n                      (shortcut): Identity()\n                      (layer): Sequential(\n                        (0): ResNetConvLayer(\n                          (convolution): Conv2d(512, 128, kernel_size=(1, 1), stride=(1, 1), bias=False)\n                          (normalization): DetrFrozenBatchNorm2d()\n                          (activation): ReLU()\n                        )\n                        (1): ResNetConvLayer(\n                          (convolution): Conv2d(128, 128, kernel_size=(3, 3), stride=(1, 1), padding=(1, 1), bias=False)\n                          (normalization): DetrFrozenBatchNorm2d()\n                          (activation): ReLU()\n                        )\n                        (2): ResNetConvLayer(\n                          (convolution): Conv2d(128, 512, kernel_size=(1, 1), stride=(1, 1), bias=False)\n                          (normalization): DetrFrozenBatchNorm2d()\n                          (activation): Identity()\n                        )\n                      )\n                      (activation): ReLU()\n                    )\n                    (2): ResNetBottleNeckLayer(\n                      (shortcut): Identity()\n                      (layer): Sequential(\n                        (0): ResNetConvLayer(\n                          (convolution): Conv2d(512, 128, kernel_size=(1, 1), stride=(1, 1), bias=False)\n                          (normalization): DetrFrozenBatchNorm2d()\n                          (activation): ReLU()\n                        )\n                        (1): ResNetConvLayer(\n                          (convolution): Conv2d(128, 128, kernel_size=(3, 3), stride=(1, 1), padding=(1, 1), bias=False)\n                          (normalization): DetrFrozenBatchNorm2d()\n                          (activation): ReLU()\n                        )\n                        (2): ResNetConvLayer(\n                          (convolution): Conv2d(128, 512, kernel_size=(1, 1), stride=(1, 1), bias=False)\n                          (normalization): DetrFrozenBatchNorm2d()\n                          (activation): Identity()\n                        )\n                      )\n                      (activation): ReLU()\n                    )\n                    (3): ResNetBottleNeckLayer(\n                      (shortcut): Identity()\n                      (layer): Sequential(\n                        (0): ResNetConvLayer(\n                          (convolution): Conv2d(512, 128, kernel_size=(1, 1), stride=(1, 1), bias=False)\n                          (normalization): DetrFrozenBatchNorm2d()\n                          (activation): ReLU()\n                        )\n                        (1): ResNetConvLayer(\n                          (convolution): Conv2d(128, 128, kernel_size=(3, 3), stride=(1, 1), padding=(1, 1), bias=False)\n                          (normalization): DetrFrozenBatchNorm2d()\n                          (activation): ReLU()\n                        )\n                        (2): ResNetConvLayer(\n                          (convolution): Conv2d(128, 512, kernel_size=(1, 1), stride=(1, 1), bias=False)\n                          (normalization): DetrFrozenBatchNorm2d()\n                          (activation): Identity()\n                        )\n                      )\n                      (activation): ReLU()\n                    )\n                  )\n                )\n                (2): ResNetStage(\n                  (layers): Sequential(\n                    (0): ResNetBottleNeckLayer(\n                      (shortcut): ResNetShortCut(\n                        (convolution): Conv2d(512, 1024, kernel_size=(1, 1), stride=(2, 2), bias=False)\n                        (normalization): DetrFrozenBatchNorm2d()\n                      )\n                      (layer): Sequential(\n                        (0): ResNetConvLayer(\n                          (convolution): Conv2d(512, 256, kernel_size=(1, 1), stride=(1, 1), bias=False)\n                          (normalization): DetrFrozenBatchNorm2d()\n                          (activation): ReLU()\n                        )\n                        (1): ResNetConvLayer(\n                          (convolution): Conv2d(256, 256, kernel_size=(3, 3), stride=(2, 2), padding=(1, 1), bias=False)\n                          (normalization): DetrFrozenBatchNorm2d()\n                          (activation): ReLU()\n                        )\n                        (2): ResNetConvLayer(\n                          (convolution): Conv2d(256, 1024, kernel_size=(1, 1), stride=(1, 1), bias=False)\n                          (normalization): DetrFrozenBatchNorm2d()\n                          (activation): Identity()\n                        )\n                      )\n                      (activation): ReLU()\n                    )\n                    (1): ResNetBottleNeckLayer(\n                      (shortcut): Identity()\n                      (layer): Sequential(\n                        (0): ResNetConvLayer(\n                          (convolution): Conv2d(1024, 256, kernel_size=(1, 1), stride=(1, 1), bias=False)\n                          (normalization): DetrFrozenBatchNorm2d()\n                          (activation): ReLU()\n                        )\n                        (1): ResNetConvLayer(\n                          (convolution): Conv2d(256, 256, kernel_size=(3, 3), stride=(1, 1), padding=(1, 1), bias=False)\n                          (normalization): DetrFrozenBatchNorm2d()\n                          (activation): ReLU()\n                        )\n                        (2): ResNetConvLayer(\n                          (convolution): Conv2d(256, 1024, kernel_size=(1, 1), stride=(1, 1), bias=False)\n                          (normalization): DetrFrozenBatchNorm2d()\n                          (activation): Identity()\n                        )\n                      )\n                      (activation): ReLU()\n                    )\n                    (2): ResNetBottleNeckLayer(\n                      (shortcut): Identity()\n                      (layer): Sequential(\n                        (0): ResNetConvLayer(\n                          (convolution): Conv2d(1024, 256, kernel_size=(1, 1), stride=(1, 1), bias=False)\n                          (normalization): DetrFrozenBatchNorm2d()\n                          (activation): ReLU()\n                        )\n                        (1): ResNetConvLayer(\n                          (convolution): Conv2d(256, 256, kernel_size=(3, 3), stride=(1, 1), padding=(1, 1), bias=False)\n                          (normalization): DetrFrozenBatchNorm2d()\n                          (activation): ReLU()\n                        )\n                        (2): ResNetConvLayer(\n                          (convolution): Conv2d(256, 1024, kernel_size=(1, 1), stride=(1, 1), bias=False)\n                          (normalization): DetrFrozenBatchNorm2d()\n                          (activation): Identity()\n                        )\n                      )\n                      (activation): ReLU()\n                    )\n                    (3): ResNetBottleNeckLayer(\n                      (shortcut): Identity()\n                      (layer): Sequential(\n                        (0): ResNetConvLayer(\n                          (convolution): Conv2d(1024, 256, kernel_size=(1, 1), stride=(1, 1), bias=False)\n                          (normalization): DetrFrozenBatchNorm2d()\n                          (activation): ReLU()\n                        )\n                        (1): ResNetConvLayer(\n                          (convolution): Conv2d(256, 256, kernel_size=(3, 3), stride=(1, 1), padding=(1, 1), bias=False)\n                          (normalization): DetrFrozenBatchNorm2d()\n                          (activation): ReLU()\n                        )\n                        (2): ResNetConvLayer(\n                          (convolution): Conv2d(256, 1024, kernel_size=(1, 1), stride=(1, 1), bias=False)\n                          (normalization): DetrFrozenBatchNorm2d()\n                          (activation): Identity()\n                        )\n                      )\n                      (activation): ReLU()\n                    )\n                    (4): ResNetBottleNeckLayer(\n                      (shortcut): Identity()\n                      (layer): Sequential(\n                        (0): ResNetConvLayer(\n                          (convolution): Conv2d(1024, 256, kernel_size=(1, 1), stride=(1, 1), bias=False)\n                          (normalization): DetrFrozenBatchNorm2d()\n                          (activation): ReLU()\n                        )\n                        (1): ResNetConvLayer(\n                          (convolution): Conv2d(256, 256, kernel_size=(3, 3), stride=(1, 1), padding=(1, 1), bias=False)\n                          (normalization): DetrFrozenBatchNorm2d()\n                          (activation): ReLU()\n                        )\n                        (2): ResNetConvLayer(\n                          (convolution): Conv2d(256, 1024, kernel_size=(1, 1), stride=(1, 1), bias=False)\n                          (normalization): DetrFrozenBatchNorm2d()\n                          (activation): Identity()\n                        )\n                      )\n                      (activation): ReLU()\n                    )\n                    (5): ResNetBottleNeckLayer(\n                      (shortcut): Identity()\n                      (layer): Sequential(\n                        (0): ResNetConvLayer(\n                          (convolution): Conv2d(1024, 256, kernel_size=(1, 1), stride=(1, 1), bias=False)\n                          (normalization): DetrFrozenBatchNorm2d()\n                          (activation): ReLU()\n                        )\n                        (1): ResNetConvLayer(\n                          (convolution): Conv2d(256, 256, kernel_size=(3, 3), stride=(1, 1), padding=(1, 1), bias=False)\n                          (normalization): DetrFrozenBatchNorm2d()\n                          (activation): ReLU()\n                        )\n                        (2): ResNetConvLayer(\n                          (convolution): Conv2d(256, 1024, kernel_size=(1, 1), stride=(1, 1), bias=False)\n                          (normalization): DetrFrozenBatchNorm2d()\n                          (activation): Identity()\n                        )\n                      )\n                      (activation): ReLU()\n                    )\n                  )\n                )\n                (3): ResNetStage(\n                  (layers): Sequential(\n                    (0): ResNetBottleNeckLayer(\n                      (shortcut): ResNetShortCut(\n                        (convolution): Conv2d(1024, 2048, kernel_size=(1, 1), stride=(2, 2), bias=False)\n                        (normalization): DetrFrozenBatchNorm2d()\n                      )\n                      (layer): Sequential(\n                        (0): ResNetConvLayer(\n                          (convolution): Conv2d(1024, 512, kernel_size=(1, 1), stride=(1, 1), bias=False)\n                          (normalization): DetrFrozenBatchNorm2d()\n                          (activation): ReLU()\n                        )\n                        (1): ResNetConvLayer(\n                          (convolution): Conv2d(512, 512, kernel_size=(3, 3), stride=(2, 2), padding=(1, 1), bias=False)\n                          (normalization): DetrFrozenBatchNorm2d()\n                          (activation): ReLU()\n                        )\n                        (2): ResNetConvLayer(\n                          (convolution): Conv2d(512, 2048, kernel_size=(1, 1), stride=(1, 1), bias=False)\n                          (normalization): DetrFrozenBatchNorm2d()\n                          (activation): Identity()\n                        )\n                      )\n                      (activation): ReLU()\n                    )\n                    (1): ResNetBottleNeckLayer(\n                      (shortcut): Identity()\n                      (layer): Sequential(\n                        (0): ResNetConvLayer(\n                          (convolution): Conv2d(2048, 512, kernel_size=(1, 1), stride=(1, 1), bias=False)\n                          (normalization): DetrFrozenBatchNorm2d()\n                          (activation): ReLU()\n                        )\n                        (1): ResNetConvLayer(\n                          (convolution): Conv2d(512, 512, kernel_size=(3, 3), stride=(1, 1), padding=(1, 1), bias=False)\n                          (normalization): DetrFrozenBatchNorm2d()\n                          (activation): ReLU()\n                        )\n                        (2): ResNetConvLayer(\n                          (convolution): Conv2d(512, 2048, kernel_size=(1, 1), stride=(1, 1), bias=False)\n                          (normalization): DetrFrozenBatchNorm2d()\n                          (activation): Identity()\n                        )\n                      )\n                      (activation): ReLU()\n                    )\n                    (2): ResNetBottleNeckLayer(\n                      (shortcut): Identity()\n                      (layer): Sequential(\n                        (0): ResNetConvLayer(\n                          (convolution): Conv2d(2048, 512, kernel_size=(1, 1), stride=(1, 1), bias=False)\n                          (normalization): DetrFrozenBatchNorm2d()\n                          (activation): ReLU()\n                        )\n                        (1): ResNetConvLayer(\n                          (convolution): Conv2d(512, 512, kernel_size=(3, 3), stride=(1, 1), padding=(1, 1), bias=False)\n                          (normalization): DetrFrozenBatchNorm2d()\n                          (activation): ReLU()\n                        )\n                        (2): ResNetConvLayer(\n                          (convolution): Conv2d(512, 2048, kernel_size=(1, 1), stride=(1, 1), bias=False)\n                          (normalization): DetrFrozenBatchNorm2d()\n                          (activation): Identity()\n                        )\n                      )\n                      (activation): ReLU()\n                    )\n                  )\n                )\n              )\n            )\n          )\n        )\n        (position_embedding): DetrSinePositionEmbedding()\n      )\n      (input_projection): Conv2d(2048, 256, kernel_size=(1, 1), stride=(1, 1))\n      (query_position_embeddings): Embedding(100, 256)\n      (encoder): DetrEncoder(\n        (layers): ModuleList(\n          (0-5): 6 x DetrEncoderLayer(\n            (self_attn): DetrAttention(\n              (k_proj): Linear(in_features=256, out_features=256, bias=True)\n              (v_proj): Linear(in_features=256, out_features=256, bias=True)\n              (q_proj): Linear(in_features=256, out_features=256, bias=True)\n              (out_proj): Linear(in_features=256, out_features=256, bias=True)\n            )\n            (self_attn_layer_norm): LayerNorm((256,), eps=1e-05, elementwise_affine=True)\n            (activation_fn): ReLU()\n            (fc1): Linear(in_features=256, out_features=2048, bias=True)\n            (fc2): Linear(in_features=2048, out_features=256, bias=True)\n            (final_layer_norm): LayerNorm((256,), eps=1e-05, elementwise_affine=True)\n          )\n        )\n      )\n      (decoder): DetrDecoder(\n        (layers): ModuleList(\n          (0-5): 6 x DetrDecoderLayer(\n            (self_attn): DetrAttention(\n              (k_proj): Linear(in_features=256, out_features=256, bias=True)\n              (v_proj): Linear(in_features=256, out_features=256, bias=True)\n              (q_proj): Linear(in_features=256, out_features=256, bias=True)\n              (out_proj): Linear(in_features=256, out_features=256, bias=True)\n            )\n            (activation_fn): ReLU()\n            (self_attn_layer_norm): LayerNorm((256,), eps=1e-05, elementwise_affine=True)\n            (encoder_attn): DetrAttention(\n              (k_proj): Linear(in_features=256, out_features=256, bias=True)\n              (v_proj): Linear(in_features=256, out_features=256, bias=True)\n              (q_proj): Linear(in_features=256, out_features=256, bias=True)\n              (out_proj): Linear(in_features=256, out_features=256, bias=True)\n            )\n            (encoder_attn_layer_norm): LayerNorm((256,), eps=1e-05, elementwise_affine=True)\n            (fc1): Linear(in_features=256, out_features=2048, bias=True)\n            (fc2): Linear(in_features=2048, out_features=256, bias=True)\n            (final_layer_norm): LayerNorm((256,), eps=1e-05, elementwise_affine=True)\n          )\n        )\n        (layernorm): LayerNorm((256,), eps=1e-05, elementwise_affine=True)\n      )\n    )\n    (class_labels_classifier): Linear(in_features=256, out_features=2, bias=True)\n    (bbox_predictor): DetrMLPPredictionHead(\n      (layers): ModuleList(\n        (0-1): 2 x Linear(in_features=256, out_features=256, bias=True)\n        (2): Linear(in_features=256, out_features=4, bias=True)\n      )\n    )\n  )\n)"
     },
     "execution_count": 12,
     "metadata": {},
     "output_type": "execute_result"
    }
   ],
   "source": [
    "ckpt_path = '/home/wong/PycharmProjects/detr-cityperson-tesing/lightning_logs/version_11/checkpoints/epoch=29-step=300.ckpt'\n",
    "model = Detr.load_from_checkpoint(ckpt_path, lr=LR, lr_backbone=LR_BACKBONE, weight_decay=WEIGHT_DECAY)\n",
    "# print(model[\"hyper_parameters\"])\n",
    "device = torch.device(\"cuda\" if torch.cuda.is_available() else \"cpu\")\n",
    "model.to(device)"
   ],
   "metadata": {
    "collapsed": false,
    "ExecuteTime": {
     "end_time": "2023-11-26T15:54:42.461289689Z",
     "start_time": "2023-11-26T15:54:41.672565782Z"
    }
   },
   "id": "19baac94e1ce87e6"
  },
  {
   "cell_type": "code",
   "execution_count": 13,
   "outputs": [
    {
     "name": "stdout",
     "output_type": "stream",
     "text": [
      "torch.Size([1, 3, 666, 1332])\n"
     ]
    }
   ],
   "source": [
    "pixel_values, target = val_dataset[1]\n",
    "device = torch.device(\"cuda\" if torch.cuda.is_available() else \"cpu\")\n",
    "pixel_values = pixel_values.unsqueeze(0).to(device)\n",
    "print(pixel_values.shape)"
   ],
   "metadata": {
    "collapsed": false,
    "ExecuteTime": {
     "end_time": "2023-11-26T15:54:43.541849980Z",
     "start_time": "2023-11-26T15:54:43.440652954Z"
    }
   },
   "id": "ebd6af7d97469b0d"
  },
  {
   "cell_type": "code",
   "execution_count": 14,
   "outputs": [
    {
     "ename": "RuntimeError",
     "evalue": "CUDA error: out of memory\nCUDA kernel errors might be asynchronously reported at some other API call, so the stacktrace below might be incorrect.\nFor debugging consider passing CUDA_LAUNCH_BLOCKING=1.\nCompile with `TORCH_USE_CUDA_DSA` to enable device-side assertions.\n",
     "output_type": "error",
     "traceback": [
      "\u001B[0;31m---------------------------------------------------------------------------\u001B[0m",
      "\u001B[0;31mRuntimeError\u001B[0m                              Traceback (most recent call last)",
      "Cell \u001B[0;32mIn[14], line 3\u001B[0m\n\u001B[1;32m      1\u001B[0m \u001B[38;5;28;01mwith\u001B[39;00m torch\u001B[38;5;241m.\u001B[39mno_grad():\n\u001B[1;32m      2\u001B[0m     \u001B[38;5;66;03m# forward pass to get class logits and bounding boxes\u001B[39;00m\n\u001B[0;32m----> 3\u001B[0m     outputs \u001B[38;5;241m=\u001B[39m model(pixel_values\u001B[38;5;241m=\u001B[39mpixel_values, pixel_mask\u001B[38;5;241m=\u001B[39m\u001B[38;5;28;01mNone\u001B[39;00m)\n\u001B[1;32m      4\u001B[0m \u001B[38;5;28mprint\u001B[39m(\u001B[38;5;124m\"\u001B[39m\u001B[38;5;124mOutputs:\u001B[39m\u001B[38;5;124m\"\u001B[39m, outputs\u001B[38;5;241m.\u001B[39mkeys())\n\u001B[1;32m      6\u001B[0m \u001B[38;5;28mprint\u001B[39m(outputs)\n",
      "File \u001B[0;32m~/miniconda3/envs/detr/lib/python3.11/site-packages/torch/nn/modules/module.py:1518\u001B[0m, in \u001B[0;36mModule._wrapped_call_impl\u001B[0;34m(self, *args, **kwargs)\u001B[0m\n\u001B[1;32m   1516\u001B[0m     \u001B[38;5;28;01mreturn\u001B[39;00m \u001B[38;5;28mself\u001B[39m\u001B[38;5;241m.\u001B[39m_compiled_call_impl(\u001B[38;5;241m*\u001B[39margs, \u001B[38;5;241m*\u001B[39m\u001B[38;5;241m*\u001B[39mkwargs)  \u001B[38;5;66;03m# type: ignore[misc]\u001B[39;00m\n\u001B[1;32m   1517\u001B[0m \u001B[38;5;28;01melse\u001B[39;00m:\n\u001B[0;32m-> 1518\u001B[0m     \u001B[38;5;28;01mreturn\u001B[39;00m \u001B[38;5;28mself\u001B[39m\u001B[38;5;241m.\u001B[39m_call_impl(\u001B[38;5;241m*\u001B[39margs, \u001B[38;5;241m*\u001B[39m\u001B[38;5;241m*\u001B[39mkwargs)\n",
      "File \u001B[0;32m~/miniconda3/envs/detr/lib/python3.11/site-packages/torch/nn/modules/module.py:1527\u001B[0m, in \u001B[0;36mModule._call_impl\u001B[0;34m(self, *args, **kwargs)\u001B[0m\n\u001B[1;32m   1522\u001B[0m \u001B[38;5;66;03m# If we don't have any hooks, we want to skip the rest of the logic in\u001B[39;00m\n\u001B[1;32m   1523\u001B[0m \u001B[38;5;66;03m# this function, and just call forward.\u001B[39;00m\n\u001B[1;32m   1524\u001B[0m \u001B[38;5;28;01mif\u001B[39;00m \u001B[38;5;129;01mnot\u001B[39;00m (\u001B[38;5;28mself\u001B[39m\u001B[38;5;241m.\u001B[39m_backward_hooks \u001B[38;5;129;01mor\u001B[39;00m \u001B[38;5;28mself\u001B[39m\u001B[38;5;241m.\u001B[39m_backward_pre_hooks \u001B[38;5;129;01mor\u001B[39;00m \u001B[38;5;28mself\u001B[39m\u001B[38;5;241m.\u001B[39m_forward_hooks \u001B[38;5;129;01mor\u001B[39;00m \u001B[38;5;28mself\u001B[39m\u001B[38;5;241m.\u001B[39m_forward_pre_hooks\n\u001B[1;32m   1525\u001B[0m         \u001B[38;5;129;01mor\u001B[39;00m _global_backward_pre_hooks \u001B[38;5;129;01mor\u001B[39;00m _global_backward_hooks\n\u001B[1;32m   1526\u001B[0m         \u001B[38;5;129;01mor\u001B[39;00m _global_forward_hooks \u001B[38;5;129;01mor\u001B[39;00m _global_forward_pre_hooks):\n\u001B[0;32m-> 1527\u001B[0m     \u001B[38;5;28;01mreturn\u001B[39;00m forward_call(\u001B[38;5;241m*\u001B[39margs, \u001B[38;5;241m*\u001B[39m\u001B[38;5;241m*\u001B[39mkwargs)\n\u001B[1;32m   1529\u001B[0m \u001B[38;5;28;01mtry\u001B[39;00m:\n\u001B[1;32m   1530\u001B[0m     result \u001B[38;5;241m=\u001B[39m \u001B[38;5;28;01mNone\u001B[39;00m\n",
      "Cell \u001B[0;32mIn[6], line 23\u001B[0m, in \u001B[0;36mDetr.forward\u001B[0;34m(self, pixel_values, pixel_mask)\u001B[0m\n\u001B[1;32m     22\u001B[0m \u001B[38;5;28;01mdef\u001B[39;00m \u001B[38;5;21mforward\u001B[39m(\u001B[38;5;28mself\u001B[39m, pixel_values, pixel_mask):\n\u001B[0;32m---> 23\u001B[0m     outputs \u001B[38;5;241m=\u001B[39m \u001B[38;5;28mself\u001B[39m\u001B[38;5;241m.\u001B[39mmodel(pixel_values\u001B[38;5;241m=\u001B[39mpixel_values, pixel_mask\u001B[38;5;241m=\u001B[39mpixel_mask)\n\u001B[1;32m     25\u001B[0m     \u001B[38;5;28;01mreturn\u001B[39;00m outputs\n",
      "File \u001B[0;32m~/miniconda3/envs/detr/lib/python3.11/site-packages/torch/nn/modules/module.py:1518\u001B[0m, in \u001B[0;36mModule._wrapped_call_impl\u001B[0;34m(self, *args, **kwargs)\u001B[0m\n\u001B[1;32m   1516\u001B[0m     \u001B[38;5;28;01mreturn\u001B[39;00m \u001B[38;5;28mself\u001B[39m\u001B[38;5;241m.\u001B[39m_compiled_call_impl(\u001B[38;5;241m*\u001B[39margs, \u001B[38;5;241m*\u001B[39m\u001B[38;5;241m*\u001B[39mkwargs)  \u001B[38;5;66;03m# type: ignore[misc]\u001B[39;00m\n\u001B[1;32m   1517\u001B[0m \u001B[38;5;28;01melse\u001B[39;00m:\n\u001B[0;32m-> 1518\u001B[0m     \u001B[38;5;28;01mreturn\u001B[39;00m \u001B[38;5;28mself\u001B[39m\u001B[38;5;241m.\u001B[39m_call_impl(\u001B[38;5;241m*\u001B[39margs, \u001B[38;5;241m*\u001B[39m\u001B[38;5;241m*\u001B[39mkwargs)\n",
      "File \u001B[0;32m~/miniconda3/envs/detr/lib/python3.11/site-packages/torch/nn/modules/module.py:1527\u001B[0m, in \u001B[0;36mModule._call_impl\u001B[0;34m(self, *args, **kwargs)\u001B[0m\n\u001B[1;32m   1522\u001B[0m \u001B[38;5;66;03m# If we don't have any hooks, we want to skip the rest of the logic in\u001B[39;00m\n\u001B[1;32m   1523\u001B[0m \u001B[38;5;66;03m# this function, and just call forward.\u001B[39;00m\n\u001B[1;32m   1524\u001B[0m \u001B[38;5;28;01mif\u001B[39;00m \u001B[38;5;129;01mnot\u001B[39;00m (\u001B[38;5;28mself\u001B[39m\u001B[38;5;241m.\u001B[39m_backward_hooks \u001B[38;5;129;01mor\u001B[39;00m \u001B[38;5;28mself\u001B[39m\u001B[38;5;241m.\u001B[39m_backward_pre_hooks \u001B[38;5;129;01mor\u001B[39;00m \u001B[38;5;28mself\u001B[39m\u001B[38;5;241m.\u001B[39m_forward_hooks \u001B[38;5;129;01mor\u001B[39;00m \u001B[38;5;28mself\u001B[39m\u001B[38;5;241m.\u001B[39m_forward_pre_hooks\n\u001B[1;32m   1525\u001B[0m         \u001B[38;5;129;01mor\u001B[39;00m _global_backward_pre_hooks \u001B[38;5;129;01mor\u001B[39;00m _global_backward_hooks\n\u001B[1;32m   1526\u001B[0m         \u001B[38;5;129;01mor\u001B[39;00m _global_forward_hooks \u001B[38;5;129;01mor\u001B[39;00m _global_forward_pre_hooks):\n\u001B[0;32m-> 1527\u001B[0m     \u001B[38;5;28;01mreturn\u001B[39;00m forward_call(\u001B[38;5;241m*\u001B[39margs, \u001B[38;5;241m*\u001B[39m\u001B[38;5;241m*\u001B[39mkwargs)\n\u001B[1;32m   1529\u001B[0m \u001B[38;5;28;01mtry\u001B[39;00m:\n\u001B[1;32m   1530\u001B[0m     result \u001B[38;5;241m=\u001B[39m \u001B[38;5;28;01mNone\u001B[39;00m\n",
      "File \u001B[0;32m~/miniconda3/envs/detr/lib/python3.11/site-packages/transformers/models/detr/modeling_detr.py:1466\u001B[0m, in \u001B[0;36mDetrForObjectDetection.forward\u001B[0;34m(self, pixel_values, pixel_mask, decoder_attention_mask, encoder_outputs, inputs_embeds, decoder_inputs_embeds, labels, output_attentions, output_hidden_states, return_dict)\u001B[0m\n\u001B[1;32m   1463\u001B[0m return_dict \u001B[38;5;241m=\u001B[39m return_dict \u001B[38;5;28;01mif\u001B[39;00m return_dict \u001B[38;5;129;01mis\u001B[39;00m \u001B[38;5;129;01mnot\u001B[39;00m \u001B[38;5;28;01mNone\u001B[39;00m \u001B[38;5;28;01melse\u001B[39;00m \u001B[38;5;28mself\u001B[39m\u001B[38;5;241m.\u001B[39mconfig\u001B[38;5;241m.\u001B[39muse_return_dict\n\u001B[1;32m   1465\u001B[0m \u001B[38;5;66;03m# First, sent images through DETR base model to obtain encoder + decoder outputs\u001B[39;00m\n\u001B[0;32m-> 1466\u001B[0m outputs \u001B[38;5;241m=\u001B[39m \u001B[38;5;28mself\u001B[39m\u001B[38;5;241m.\u001B[39mmodel(\n\u001B[1;32m   1467\u001B[0m     pixel_values,\n\u001B[1;32m   1468\u001B[0m     pixel_mask\u001B[38;5;241m=\u001B[39mpixel_mask,\n\u001B[1;32m   1469\u001B[0m     decoder_attention_mask\u001B[38;5;241m=\u001B[39mdecoder_attention_mask,\n\u001B[1;32m   1470\u001B[0m     encoder_outputs\u001B[38;5;241m=\u001B[39mencoder_outputs,\n\u001B[1;32m   1471\u001B[0m     inputs_embeds\u001B[38;5;241m=\u001B[39minputs_embeds,\n\u001B[1;32m   1472\u001B[0m     decoder_inputs_embeds\u001B[38;5;241m=\u001B[39mdecoder_inputs_embeds,\n\u001B[1;32m   1473\u001B[0m     output_attentions\u001B[38;5;241m=\u001B[39moutput_attentions,\n\u001B[1;32m   1474\u001B[0m     output_hidden_states\u001B[38;5;241m=\u001B[39moutput_hidden_states,\n\u001B[1;32m   1475\u001B[0m     return_dict\u001B[38;5;241m=\u001B[39mreturn_dict,\n\u001B[1;32m   1476\u001B[0m )\n\u001B[1;32m   1478\u001B[0m sequence_output \u001B[38;5;241m=\u001B[39m outputs[\u001B[38;5;241m0\u001B[39m]\n\u001B[1;32m   1480\u001B[0m \u001B[38;5;66;03m# class logits + predicted bounding boxes\u001B[39;00m\n",
      "File \u001B[0;32m~/miniconda3/envs/detr/lib/python3.11/site-packages/torch/nn/modules/module.py:1518\u001B[0m, in \u001B[0;36mModule._wrapped_call_impl\u001B[0;34m(self, *args, **kwargs)\u001B[0m\n\u001B[1;32m   1516\u001B[0m     \u001B[38;5;28;01mreturn\u001B[39;00m \u001B[38;5;28mself\u001B[39m\u001B[38;5;241m.\u001B[39m_compiled_call_impl(\u001B[38;5;241m*\u001B[39margs, \u001B[38;5;241m*\u001B[39m\u001B[38;5;241m*\u001B[39mkwargs)  \u001B[38;5;66;03m# type: ignore[misc]\u001B[39;00m\n\u001B[1;32m   1517\u001B[0m \u001B[38;5;28;01melse\u001B[39;00m:\n\u001B[0;32m-> 1518\u001B[0m     \u001B[38;5;28;01mreturn\u001B[39;00m \u001B[38;5;28mself\u001B[39m\u001B[38;5;241m.\u001B[39m_call_impl(\u001B[38;5;241m*\u001B[39margs, \u001B[38;5;241m*\u001B[39m\u001B[38;5;241m*\u001B[39mkwargs)\n",
      "File \u001B[0;32m~/miniconda3/envs/detr/lib/python3.11/site-packages/torch/nn/modules/module.py:1527\u001B[0m, in \u001B[0;36mModule._call_impl\u001B[0;34m(self, *args, **kwargs)\u001B[0m\n\u001B[1;32m   1522\u001B[0m \u001B[38;5;66;03m# If we don't have any hooks, we want to skip the rest of the logic in\u001B[39;00m\n\u001B[1;32m   1523\u001B[0m \u001B[38;5;66;03m# this function, and just call forward.\u001B[39;00m\n\u001B[1;32m   1524\u001B[0m \u001B[38;5;28;01mif\u001B[39;00m \u001B[38;5;129;01mnot\u001B[39;00m (\u001B[38;5;28mself\u001B[39m\u001B[38;5;241m.\u001B[39m_backward_hooks \u001B[38;5;129;01mor\u001B[39;00m \u001B[38;5;28mself\u001B[39m\u001B[38;5;241m.\u001B[39m_backward_pre_hooks \u001B[38;5;129;01mor\u001B[39;00m \u001B[38;5;28mself\u001B[39m\u001B[38;5;241m.\u001B[39m_forward_hooks \u001B[38;5;129;01mor\u001B[39;00m \u001B[38;5;28mself\u001B[39m\u001B[38;5;241m.\u001B[39m_forward_pre_hooks\n\u001B[1;32m   1525\u001B[0m         \u001B[38;5;129;01mor\u001B[39;00m _global_backward_pre_hooks \u001B[38;5;129;01mor\u001B[39;00m _global_backward_hooks\n\u001B[1;32m   1526\u001B[0m         \u001B[38;5;129;01mor\u001B[39;00m _global_forward_hooks \u001B[38;5;129;01mor\u001B[39;00m _global_forward_pre_hooks):\n\u001B[0;32m-> 1527\u001B[0m     \u001B[38;5;28;01mreturn\u001B[39;00m forward_call(\u001B[38;5;241m*\u001B[39margs, \u001B[38;5;241m*\u001B[39m\u001B[38;5;241m*\u001B[39mkwargs)\n\u001B[1;32m   1529\u001B[0m \u001B[38;5;28;01mtry\u001B[39;00m:\n\u001B[1;32m   1530\u001B[0m     result \u001B[38;5;241m=\u001B[39m \u001B[38;5;28;01mNone\u001B[39;00m\n",
      "File \u001B[0;32m~/miniconda3/envs/detr/lib/python3.11/site-packages/transformers/models/detr/modeling_detr.py:1296\u001B[0m, in \u001B[0;36mDetrModel.forward\u001B[0;34m(self, pixel_values, pixel_mask, decoder_attention_mask, encoder_outputs, inputs_embeds, decoder_inputs_embeds, output_attentions, output_hidden_states, return_dict)\u001B[0m\n\u001B[1;32m   1293\u001B[0m device \u001B[38;5;241m=\u001B[39m pixel_values\u001B[38;5;241m.\u001B[39mdevice\n\u001B[1;32m   1295\u001B[0m \u001B[38;5;28;01mif\u001B[39;00m pixel_mask \u001B[38;5;129;01mis\u001B[39;00m \u001B[38;5;28;01mNone\u001B[39;00m:\n\u001B[0;32m-> 1296\u001B[0m     pixel_mask \u001B[38;5;241m=\u001B[39m torch\u001B[38;5;241m.\u001B[39mones(((batch_size, height, width)), device\u001B[38;5;241m=\u001B[39mdevice)\n\u001B[1;32m   1298\u001B[0m \u001B[38;5;66;03m# First, sent pixel_values + pixel_mask through Backbone to obtain the features\u001B[39;00m\n\u001B[1;32m   1299\u001B[0m \u001B[38;5;66;03m# pixel_values should be of shape (batch_size, num_channels, height, width)\u001B[39;00m\n\u001B[1;32m   1300\u001B[0m \u001B[38;5;66;03m# pixel_mask should be of shape (batch_size, height, width)\u001B[39;00m\n\u001B[1;32m   1301\u001B[0m features, position_embeddings_list \u001B[38;5;241m=\u001B[39m \u001B[38;5;28mself\u001B[39m\u001B[38;5;241m.\u001B[39mbackbone(pixel_values, pixel_mask)\n",
      "\u001B[0;31mRuntimeError\u001B[0m: CUDA error: out of memory\nCUDA kernel errors might be asynchronously reported at some other API call, so the stacktrace below might be incorrect.\nFor debugging consider passing CUDA_LAUNCH_BLOCKING=1.\nCompile with `TORCH_USE_CUDA_DSA` to enable device-side assertions.\n"
     ]
    }
   ],
   "source": [
    "with torch.no_grad():\n",
    "    # forward pass to get class logits and bounding boxes\n",
    "    outputs = model(pixel_values=pixel_values, pixel_mask=None)\n",
    "print(\"Outputs:\", outputs.keys())\n",
    "\n",
    "print(outputs)"
   ],
   "metadata": {
    "collapsed": false,
    "ExecuteTime": {
     "end_time": "2023-11-26T15:54:44.717560689Z",
     "start_time": "2023-11-26T15:54:44.272125987Z"
    }
   },
   "id": "7eb09138e45ecaa4"
  },
  {
   "cell_type": "code",
   "execution_count": null,
   "outputs": [],
   "source": [
    "import matplotlib.pyplot as plt\n",
    "\n",
    "# colors for visualization\n",
    "COLORS = [[0.000, 0.447, 0.741], [0.850, 0.325, 0.098], [0.929, 0.694, 0.125],\n",
    "          [0.494, 0.184, 0.556], [0.466, 0.674, 0.188], [0.301, 0.745, 0.933]]\n",
    "\n",
    "def plot_results(pil_img, scores, labels, boxes):\n",
    "    plt.figure(figsize=(16,10))\n",
    "    plt.imshow(pil_img)\n",
    "    ax = plt.gca()\n",
    "    colors = COLORS * 100\n",
    "    for score, label, (xmin, ymin, xmax, ymax),c  in zip(scores.tolist(), labels.tolist(), boxes.tolist(), colors):\n",
    "        ax.add_patch(plt.Rectangle((xmin, ymin), xmax - xmin, ymax - ymin,\n",
    "                                   fill=False, color=c, linewidth=3))\n",
    "        text = f'{model.config.id2label[label]}: {score:0.2f}'\n",
    "        ax.text(xmin, ymin, text, fontsize=15,\n",
    "                bbox=dict(facecolor='yellow', alpha=0.5))\n",
    "    plt.axis('off')\n",
    "    plt.show()"
   ],
   "metadata": {
    "collapsed": false,
    "ExecuteTime": {
     "start_time": "2023-11-26T15:52:10.015362943Z"
    }
   },
   "id": "a4124715a9e3503"
  },
  {
   "cell_type": "code",
   "execution_count": null,
   "outputs": [],
   "source": [
    "from PIL import Image\n",
    "# load image based on ID\n",
    "image_id = target['image_id'].item()\n",
    "image = val_dataset.coco.loadImgs(image_id)[0]\n",
    "image = Image.open(os.path.join(city_img_dir, val_folder_name, image['file_name']))\n",
    "\n",
    "# postprocess model outputs\n",
    "width, height = image.size\n",
    "postprocessed_outputs = processor.post_process_object_detection(outputs,\n",
    "                                                                target_sizes=[(height, width)],\n",
    "                                                                threshold=THRESHOLD_EVAL)\n",
    "results = postprocessed_outputs[0]\n",
    "print(results)\n",
    "plot_results(image, results['scores'], results['labels'], results['boxes'])"
   ],
   "metadata": {
    "collapsed": false,
    "ExecuteTime": {
     "start_time": "2023-11-26T15:52:10.015378890Z"
    }
   },
   "id": "7cab4ff3bfc97a32"
  }
 ],
 "metadata": {
  "kernelspec": {
   "display_name": "Python 3",
   "language": "python",
   "name": "python3"
  },
  "language_info": {
   "codemirror_mode": {
    "name": "ipython",
    "version": 2
   },
   "file_extension": ".py",
   "mimetype": "text/x-python",
   "name": "python",
   "nbconvert_exporter": "python",
   "pygments_lexer": "ipython2",
   "version": "2.7.6"
  }
 },
 "nbformat": 4,
 "nbformat_minor": 5
}
