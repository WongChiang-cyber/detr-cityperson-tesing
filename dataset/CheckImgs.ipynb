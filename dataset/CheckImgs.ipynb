{
 "cells": [
  {
   "cell_type": "code",
   "execution_count": 1,
   "outputs": [],
   "source": [
    "# 根目录\n",
    "ROOT = '/home/wong/Documents/DataSet/CityPerson/'\n",
    "# COCO format标注save位置\n",
    "COCO_ANNO_DIR = ROOT + 'annotations/'\n",
    "\n",
    "TARGET_TRAIN_DIR = ROOT + 'train/'\n",
    "TARGET_VAL_DIR = ROOT + 'val/'\n",
    "TARGET_TEST_DIR = ROOT + 'test/'"
   ],
   "metadata": {
    "collapsed": false,
    "ExecuteTime": {
     "end_time": "2023-11-23T04:27:13.373771548Z",
     "start_time": "2023-11-23T04:27:13.373074080Z"
    }
   },
   "id": "6788bfbb7bd8165e"
  },
  {
   "cell_type": "code",
   "execution_count": 2,
   "id": "initial_id",
   "metadata": {
    "collapsed": true,
    "ExecuteTime": {
     "end_time": "2023-11-23T04:27:15.119823661Z",
     "start_time": "2023-11-23T04:27:15.053883685Z"
    }
   },
   "outputs": [
    {
     "name": "stdout",
     "output_type": "stream",
     "text": [
      "CHECKED 40 images in /home/wong/Documents/DataSet/CityPerson/train/ with /home/wong/Documents/DataSet/CityPerson/annotations/custom_train_debug.json \n",
      "\n",
      "CHECKED 20 images in /home/wong/Documents/DataSet/CityPerson/val/ with /home/wong/Documents/DataSet/CityPerson/annotations/custom_val_debug.json \n",
      "\n",
      "CHECKED 2380 images in /home/wong/Documents/DataSet/CityPerson/train/ with /home/wong/Documents/DataSet/CityPerson/annotations/custom_train.json \n",
      "\n",
      "CHECKED 595 images in /home/wong/Documents/DataSet/CityPerson/val/ with /home/wong/Documents/DataSet/CityPerson/annotations/custom_val.json \n",
      "\n",
      "CHECKED 500 images in /home/wong/Documents/DataSet/CityPerson/test/ with /home/wong/Documents/DataSet/CityPerson/annotations/custom_test.json \n"
     ]
    },
    {
     "data": {
      "text/plain": "True"
     },
     "execution_count": 2,
     "metadata": {},
     "output_type": "execute_result"
    }
   ],
   "source": [
    "import json \n",
    "import os\n",
    "\n",
    "def check(json_file_path, folder_path):\n",
    "    with open(json_file_path, 'r') as anno_file:\n",
    "        anno_data = json.load(anno_file)\n",
    "    image_list = anno_data['images']\n",
    "    count = 0\n",
    "    for im in image_list:\n",
    "        im_path = folder_path + im['file_name']\n",
    "        if not os.path.isfile(im_path):\n",
    "            print(\"ERROR: NOT FOUND \" + im_path)\n",
    "            return False\n",
    "        else:\n",
    "            count += 1\n",
    "    print(f\"CHECKED {count} images in {folder_path} with {json_file_path} \\n\")\n",
    "    return True\n",
    "\n",
    "check(COCO_ANNO_DIR + 'custom_train_debug.json', TARGET_TRAIN_DIR)\n",
    "check(COCO_ANNO_DIR + 'custom_val_debug.json', TARGET_VAL_DIR)\n",
    "\n",
    "check(COCO_ANNO_DIR + 'custom_train.json', TARGET_TRAIN_DIR)\n",
    "check(COCO_ANNO_DIR + 'custom_val.json', TARGET_VAL_DIR)\n",
    "check(COCO_ANNO_DIR + 'custom_test.json', TARGET_TEST_DIR)"
   ]
  },
  {
   "cell_type": "code",
   "execution_count": null,
   "outputs": [],
   "source": [],
   "metadata": {
    "collapsed": false
   },
   "id": "97ba53ca81b1fecc"
  }
 ],
 "metadata": {
  "kernelspec": {
   "display_name": "Python 3",
   "language": "python",
   "name": "python3"
  },
  "language_info": {
   "codemirror_mode": {
    "name": "ipython",
    "version": 2
   },
   "file_extension": ".py",
   "mimetype": "text/x-python",
   "name": "python",
   "nbconvert_exporter": "python",
   "pygments_lexer": "ipython2",
   "version": "2.7.6"
  }
 },
 "nbformat": 4,
 "nbformat_minor": 5
}
