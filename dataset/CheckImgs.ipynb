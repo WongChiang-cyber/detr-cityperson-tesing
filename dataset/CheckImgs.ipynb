{
 "cells": [
  {
   "cell_type": "code",
   "execution_count": 10,
   "outputs": [],
   "source": [
    "# 根目录\n",
    "ROOT = '/home/wong/Documents/DataSet/CityPerson/'\n",
    "# COCO format标注save位置\n",
    "COCO_ANNO_DIR = ROOT + 'annotations/'\n",
    "TARGET_TRAIN_DIR = ROOT + 'train_source/'\n",
    "TARGET_VAL_DIR = ROOT + 'val_source/'\n",
    "TARGET_TEST_DIR = ROOT + 'test/'"
   ],
   "metadata": {
    "collapsed": false,
    "ExecuteTime": {
     "end_time": "2023-11-25T08:20:01.979901734Z",
     "start_time": "2023-11-25T08:20:01.935275644Z"
    }
   },
   "id": "6788bfbb7bd8165e"
  },
  {
   "cell_type": "code",
   "execution_count": 11,
   "id": "initial_id",
   "metadata": {
    "collapsed": true,
    "ExecuteTime": {
     "end_time": "2023-11-25T08:20:02.002219821Z",
     "start_time": "2023-11-25T08:20:01.979522454Z"
    }
   },
   "outputs": [
    {
     "name": "stdout",
     "output_type": "stream",
     "text": [
      "539 annotations in /home/wong/Documents/DataSet/CityPerson/annotations/custom_train_full_binary_debug.json\n",
      "539 pedestrians in /home/wong/Documents/DataSet/CityPerson/annotations/custom_train_full_binary_debug.json\n",
      "CHECKED 40 images in /home/wong/Documents/DataSet/CityPerson/train_source/ with /home/wong/Documents/DataSet/CityPerson/annotations/custom_train_full_binary_debug.json \n",
      "\n",
      "178 annotations in /home/wong/Documents/DataSet/CityPerson/annotations/custom_val_full_binary_debug.json\n",
      "178 pedestrians in /home/wong/Documents/DataSet/CityPerson/annotations/custom_val_full_binary_debug.json\n",
      "CHECKED 20 images in /home/wong/Documents/DataSet/CityPerson/val_source/ with /home/wong/Documents/DataSet/CityPerson/annotations/custom_val_full_binary_debug.json \n",
      "\n",
      "27770 annotations in /home/wong/Documents/DataSet/CityPerson/annotations/custom_train_full_binary.json\n",
      "27770 pedestrians in /home/wong/Documents/DataSet/CityPerson/annotations/custom_train_full_binary.json\n",
      "CHECKED 2975 images in /home/wong/Documents/DataSet/CityPerson/train_source/ with /home/wong/Documents/DataSet/CityPerson/annotations/custom_train_full_binary.json \n",
      "\n",
      "5795 annotations in /home/wong/Documents/DataSet/CityPerson/annotations/custom_val_full_binary.json\n",
      "5795 pedestrians in /home/wong/Documents/DataSet/CityPerson/annotations/custom_val_full_binary.json\n",
      "CHECKED 500 images in /home/wong/Documents/DataSet/CityPerson/val_source/ with /home/wong/Documents/DataSet/CityPerson/annotations/custom_val_full_binary.json \n"
     ]
    },
    {
     "data": {
      "text/plain": "True"
     },
     "execution_count": 11,
     "metadata": {},
     "output_type": "execute_result"
    }
   ],
   "source": [
    "import json \n",
    "import os\n",
    "\n",
    "def check(json_file_path, folder_path):\n",
    "    with open(json_file_path, 'r') as anno_file:\n",
    "        anno_data = json.load(anno_file)\n",
    "    print(f\"{len(anno_data['annotations'])} annotations in {json_file_path}\")\n",
    "    count_ped = 0\n",
    "    for anno in anno_data['annotations']:\n",
    "        if int(anno[\"category_id\"]) != 0:\n",
    "            count_ped += 1\n",
    "    print(f\"{count_ped} pedestrians in {json_file_path}\")\n",
    "    image_list = anno_data['images']\n",
    "    count = 0\n",
    "    for im in image_list:\n",
    "        im_path = folder_path + im['file_name']\n",
    "        if not os.path.isfile(im_path):\n",
    "            print(\"ERROR: NOT FOUND \" + im_path)\n",
    "            return False\n",
    "        else:\n",
    "            count += 1\n",
    "    print(f\"CHECKED {count} images in {folder_path} with {json_file_path} \\n\")\n",
    "    return True\n",
    "\n",
    "check(COCO_ANNO_DIR + 'custom_train_full_binary_debug.json', TARGET_TRAIN_DIR)\n",
    "check(COCO_ANNO_DIR + 'custom_val_full_binary_debug.json', TARGET_VAL_DIR)\n",
    "\n",
    "check(COCO_ANNO_DIR + 'custom_train_full_binary.json', TARGET_TRAIN_DIR)\n",
    "check(COCO_ANNO_DIR + 'custom_val_full_binary.json', TARGET_VAL_DIR)\n",
    "# check(COCO_ANNO_DIR + 'custom_test.json', TARGET_TEST_DIR)"
   ]
  },
  {
   "cell_type": "code",
   "execution_count": 11,
   "outputs": [],
   "source": [],
   "metadata": {
    "collapsed": false,
    "ExecuteTime": {
     "end_time": "2023-11-25T08:20:02.002396840Z",
     "start_time": "2023-11-25T08:20:01.998581814Z"
    }
   },
   "id": "97ba53ca81b1fecc"
  }
 ],
 "metadata": {
  "kernelspec": {
   "display_name": "Python 3",
   "language": "python",
   "name": "python3"
  },
  "language_info": {
   "codemirror_mode": {
    "name": "ipython",
    "version": 2
   },
   "file_extension": ".py",
   "mimetype": "text/x-python",
   "name": "python",
   "nbconvert_exporter": "python",
   "pygments_lexer": "ipython2",
   "version": "2.7.6"
  }
 },
 "nbformat": 4,
 "nbformat_minor": 5
}
